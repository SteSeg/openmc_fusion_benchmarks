{
 "cells": [
  {
   "cell_type": "markdown",
   "metadata": {},
   "source": [
    "# Read OpenMC StatePoint files"
   ]
  },
  {
   "cell_type": "markdown",
   "metadata": {},
   "source": [
    "Openmc has an extensive python API for postprocessing its statepoint files. Jupyter notebook tutorials can be found [here](https://github.com/openmc-dev/openmc/wiki/Example-Jupyter-Notebooks#tallies-and-visualization), while the documentation Statepoint class - main class for postprocessing - can be found [here](https://docs.openmc.org/en/stable/pythonapi/generated/openmc.StatePoint.html?highlight=openmc.statepoint).\n",
    "OFB provides a wrapper based on the StatePoint class that works with openmc results in a format compatible with the HDF files already present in the \"results_database\" folders of the benchmark models (i.e. dataframe, dataset).\n",
    "\n",
    "With the ofb.ResultsFromOpenmc class it is possible to:\n",
    "- Read an openmc statepoint file\n",
    "- Extract any tally in a [Pandas DataFrame](https://pandas.pydata.org/docs/reference/api/pandas.DataFrame.html) format\n",
    "- Extract info about the code run that produced the statepoint file (i.e. openmc version, particles per batch, batches etc.)\n",
    "- Store the tally in a hdf file in a format compatible with the hdf files already present in the \"results_database\" folder\n",
    "\n",
    "Here we will see the first three  points while the last is covered in the `push_openmc_to_database.ipynb` and `run_and_store.ipynb` notebooks."
   ]
  },
  {
   "cell_type": "code",
   "execution_count": 1,
   "metadata": {},
   "outputs": [],
   "source": [
    "import openmc_fusion_benchmarks as ofb"
   ]
  },
  {
   "cell_type": "code",
   "execution_count": 2,
   "metadata": {},
   "outputs": [],
   "source": [
    "statepoint = ofb.ResultsFromOpenmc(file='example_results/example_statepoint.100.h5')"
   ]
  },
  {
   "cell_type": "code",
   "execution_count": 3,
   "metadata": {},
   "outputs": [
    {
     "name": "stdout",
     "output_type": "stream",
     "text": [
      "rr_onaxis1_nb93\n",
      "rr_onaxis2_nb93\n",
      "rr_onaxis1_al27\n",
      "rr_onaxis2_al27\n",
      "rr_onaxis1_ni58\n",
      "rr_onaxis2_ni58\n",
      "rr_onaxis1_au197\n",
      "rr_onaxis2_au197\n"
     ]
    }
   ],
   "source": [
    "statepoint.list_tallies()"
   ]
  },
  {
   "cell_type": "code",
   "execution_count": 4,
   "metadata": {},
   "outputs": [
    {
     "data": {
      "text/html": [
       "<div>\n",
       "<style scoped>\n",
       "    .dataframe tbody tr th:only-of-type {\n",
       "        vertical-align: middle;\n",
       "    }\n",
       "\n",
       "    .dataframe tbody tr th {\n",
       "        vertical-align: top;\n",
       "    }\n",
       "\n",
       "    .dataframe thead th {\n",
       "        text-align: right;\n",
       "    }\n",
       "</style>\n",
       "<table border=\"1\" class=\"dataframe\">\n",
       "  <thead>\n",
       "    <tr style=\"text-align: right;\">\n",
       "      <th></th>\n",
       "      <th>cell</th>\n",
       "      <th>particle</th>\n",
       "      <th>energyfunction</th>\n",
       "      <th>nuclide</th>\n",
       "      <th>score</th>\n",
       "      <th>mean</th>\n",
       "      <th>std. dev.</th>\n",
       "    </tr>\n",
       "  </thead>\n",
       "  <tbody>\n",
       "    <tr>\n",
       "      <th>0</th>\n",
       "      <td>135</td>\n",
       "      <td>neutron</td>\n",
       "      <td>c0eb4a8954a405</td>\n",
       "      <td>total</td>\n",
       "      <td>flux</td>\n",
       "      <td>3.109336e-04</td>\n",
       "      <td>4.155798e-08</td>\n",
       "    </tr>\n",
       "    <tr>\n",
       "      <th>1</th>\n",
       "      <td>158</td>\n",
       "      <td>neutron</td>\n",
       "      <td>c0eb4a8954a405</td>\n",
       "      <td>total</td>\n",
       "      <td>flux</td>\n",
       "      <td>3.567396e-05</td>\n",
       "      <td>1.391516e-08</td>\n",
       "    </tr>\n",
       "    <tr>\n",
       "      <th>2</th>\n",
       "      <td>181</td>\n",
       "      <td>neutron</td>\n",
       "      <td>c0eb4a8954a405</td>\n",
       "      <td>total</td>\n",
       "      <td>flux</td>\n",
       "      <td>1.273627e-05</td>\n",
       "      <td>8.185310e-09</td>\n",
       "    </tr>\n",
       "    <tr>\n",
       "      <th>3</th>\n",
       "      <td>204</td>\n",
       "      <td>neutron</td>\n",
       "      <td>c0eb4a8954a405</td>\n",
       "      <td>total</td>\n",
       "      <td>flux</td>\n",
       "      <td>6.095352e-06</td>\n",
       "      <td>5.048533e-09</td>\n",
       "    </tr>\n",
       "    <tr>\n",
       "      <th>4</th>\n",
       "      <td>602</td>\n",
       "      <td>neutron</td>\n",
       "      <td>c0eb4a8954a405</td>\n",
       "      <td>total</td>\n",
       "      <td>flux</td>\n",
       "      <td>4.710290e-06</td>\n",
       "      <td>4.203105e-09</td>\n",
       "    </tr>\n",
       "    <tr>\n",
       "      <th>5</th>\n",
       "      <td>239</td>\n",
       "      <td>neutron</td>\n",
       "      <td>c0eb4a8954a405</td>\n",
       "      <td>total</td>\n",
       "      <td>flux</td>\n",
       "      <td>6.266556e-06</td>\n",
       "      <td>6.904215e-09</td>\n",
       "    </tr>\n",
       "    <tr>\n",
       "      <th>6</th>\n",
       "      <td>262</td>\n",
       "      <td>neutron</td>\n",
       "      <td>c0eb4a8954a405</td>\n",
       "      <td>total</td>\n",
       "      <td>flux</td>\n",
       "      <td>1.846997e-06</td>\n",
       "      <td>4.706767e-09</td>\n",
       "    </tr>\n",
       "    <tr>\n",
       "      <th>7</th>\n",
       "      <td>285</td>\n",
       "      <td>neutron</td>\n",
       "      <td>c0eb4a8954a405</td>\n",
       "      <td>total</td>\n",
       "      <td>flux</td>\n",
       "      <td>5.232285e-07</td>\n",
       "      <td>2.297467e-09</td>\n",
       "    </tr>\n",
       "    <tr>\n",
       "      <th>8</th>\n",
       "      <td>308</td>\n",
       "      <td>neutron</td>\n",
       "      <td>c0eb4a8954a405</td>\n",
       "      <td>total</td>\n",
       "      <td>flux</td>\n",
       "      <td>1.450764e-07</td>\n",
       "      <td>1.102283e-09</td>\n",
       "    </tr>\n",
       "    <tr>\n",
       "      <th>9</th>\n",
       "      <td>331</td>\n",
       "      <td>neutron</td>\n",
       "      <td>c0eb4a8954a405</td>\n",
       "      <td>total</td>\n",
       "      <td>flux</td>\n",
       "      <td>6.181171e-08</td>\n",
       "      <td>9.447441e-10</td>\n",
       "    </tr>\n",
       "    <tr>\n",
       "      <th>10</th>\n",
       "      <td>363</td>\n",
       "      <td>neutron</td>\n",
       "      <td>c0eb4a8954a405</td>\n",
       "      <td>total</td>\n",
       "      <td>flux</td>\n",
       "      <td>1.726685e-08</td>\n",
       "      <td>4.335246e-10</td>\n",
       "    </tr>\n",
       "    <tr>\n",
       "      <th>11</th>\n",
       "      <td>386</td>\n",
       "      <td>neutron</td>\n",
       "      <td>c0eb4a8954a405</td>\n",
       "      <td>total</td>\n",
       "      <td>flux</td>\n",
       "      <td>5.947850e-09</td>\n",
       "      <td>2.954882e-10</td>\n",
       "    </tr>\n",
       "    <tr>\n",
       "      <th>12</th>\n",
       "      <td>398</td>\n",
       "      <td>neutron</td>\n",
       "      <td>c0eb4a8954a405</td>\n",
       "      <td>total</td>\n",
       "      <td>flux</td>\n",
       "      <td>2.526093e-09</td>\n",
       "      <td>1.945098e-10</td>\n",
       "    </tr>\n",
       "  </tbody>\n",
       "</table>\n",
       "</div>"
      ],
      "text/plain": [
       "    cell particle  energyfunction nuclide score     mean  std. dev.\n",
       "0    135  neutron  c0eb4a8954a405   total  flux 3.11e-04   4.16e-08\n",
       "1    158  neutron  c0eb4a8954a405   total  flux 3.57e-05   1.39e-08\n",
       "2    181  neutron  c0eb4a8954a405   total  flux 1.27e-05   8.19e-09\n",
       "3    204  neutron  c0eb4a8954a405   total  flux 6.10e-06   5.05e-09\n",
       "4    602  neutron  c0eb4a8954a405   total  flux 4.71e-06   4.20e-09\n",
       "5    239  neutron  c0eb4a8954a405   total  flux 6.27e-06   6.90e-09\n",
       "6    262  neutron  c0eb4a8954a405   total  flux 1.85e-06   4.71e-09\n",
       "7    285  neutron  c0eb4a8954a405   total  flux 5.23e-07   2.30e-09\n",
       "8    308  neutron  c0eb4a8954a405   total  flux 1.45e-07   1.10e-09\n",
       "9    331  neutron  c0eb4a8954a405   total  flux 6.18e-08   9.45e-10\n",
       "10   363  neutron  c0eb4a8954a405   total  flux 1.73e-08   4.34e-10\n",
       "11   386  neutron  c0eb4a8954a405   total  flux 5.95e-09   2.95e-10\n",
       "12   398  neutron  c0eb4a8954a405   total  flux 2.53e-09   1.95e-10"
      ]
     },
     "execution_count": 4,
     "metadata": {},
     "output_type": "execute_result"
    }
   ],
   "source": [
    "statepoint.get_tally_dataframe('rr_onaxis1_nb93')"
   ]
  },
  {
   "cell_type": "code",
   "execution_count": 5,
   "metadata": {},
   "outputs": [
    {
     "data": {
      "text/plain": [
       "(0, 13, 3)"
      ]
     },
     "execution_count": 5,
     "metadata": {},
     "output_type": "execute_result"
    }
   ],
   "source": [
    "statepoint.get_openmc_version"
   ]
  }
 ],
 "metadata": {
  "kernelspec": {
   "display_name": "baby_neutronics",
   "language": "python",
   "name": "python3"
  },
  "language_info": {
   "codemirror_mode": {
    "name": "ipython",
    "version": 3
   },
   "file_extension": ".py",
   "mimetype": "text/x-python",
   "name": "python",
   "nbconvert_exporter": "python",
   "pygments_lexer": "ipython3",
   "version": "3.11.7"
  },
  "orig_nbformat": 4
 },
 "nbformat": 4,
 "nbformat_minor": 2
}
