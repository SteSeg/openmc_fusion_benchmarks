{
 "cells": [
  {
   "cell_type": "markdown",
   "metadata": {},
   "source": [
    "# Read HDF files from results database\n",
    "This notebook shows how to extract results from hdf (`.h5`) files that are already present in the `\\results_database\\` folder that is present in each benchmark folder (in `\\models\\`). These files can store either experimental or computational results of the same experiment/simulation. The `\\results_database\\` folder of the should have all the same structure and same ways to extract the data (e.g. the name of the tally).\n",
    "\n",
    "For this tutorial notebook the `\\results_database\\` folder is replaced with the `\\example_database\\` folder. The `\\example_database\\` folder contains some of the actual results from the `fns_duct` benchmark as example."
   ]
  },
  {
   "cell_type": "code",
   "execution_count": 1,
   "metadata": {},
   "outputs": [],
   "source": [
    "import openmc_fusion_benchmarks as ofb"
   ]
  },
  {
   "cell_type": "markdown",
   "metadata": {},
   "source": [
    "First we need to instantiate a `ResultsFromDatabase` object by providing the path to the file, including the name (`file`)."
   ]
  },
  {
   "cell_type": "code",
   "execution_count": 2,
   "metadata": {},
   "outputs": [],
   "source": [
    "experiment_file = ofb.ResultsFromDatabase(file='example_database/experiment.h5')\n",
    "mcnp_fendl2_file = ofb.ResultsFromDatabase(file='example_database/mcnp-4b-c_fendl2.h5')"
   ]
  },
  {
   "cell_type": "markdown",
   "metadata": {},
   "source": [
    "Usually the file is read from a **postprocessing** notebook that is in the benchmark/model folder with contains the `\\results_database\\` folder. Therefore, the `path` argument defaults to a `\\results_database\\` folder."
   ]
  },
  {
   "cell_type": "markdown",
   "metadata": {},
   "source": [
    "### Extract info\n",
    "If present, it is possible to extract and print some information regarding the experiment/simulation that produced the results present in the hdf file. Typical information can be:\n",
    "- `when` the experiment/simulation have been performed\n",
    "- `Where` the experiment/simulation have been performed (either place or institution)\n",
    "- `literature_info` regarding the experiment/model/simulation (most likely the link to a paper or report)\n",
    "- `code_version` if the hdf file refers to simulation results, useful info for V&V purposes\n",
    "- `xs_library` (nuclear data library name and version) if the hdf file refers to simulation results, useful info for V&V purposes"
   ]
  },
  {
   "cell_type": "markdown",
   "metadata": {},
   "source": [
    "Example of experimental information extraction:"
   ]
  },
  {
   "cell_type": "code",
   "execution_count": 3,
   "metadata": {},
   "outputs": [
    {
     "name": "stdout",
     "output_type": "stream",
     "text": [
      "When: ['2004']\n",
      "Where: ['JAERI, Tokai-mura (Japan)']\n",
      "Literature: ['https://www.tandfonline.com/doi/pdf/10.1080/00223131.2004.10875640']\n"
     ]
    }
   ],
   "source": [
    "when = experiment_file.when\n",
    "where = experiment_file.where\n",
    "literature = experiment_file.literature_info\n",
    "\n",
    "print(f'When: {when}')\n",
    "print(f'Where: {where}')\n",
    "print(f'Literature: {literature}')"
   ]
  },
  {
   "cell_type": "markdown",
   "metadata": {},
   "source": [
    "It is also possible to print all the information at once with the `print_all_info` method:"
   ]
  },
  {
   "cell_type": "code",
   "execution_count": 4,
   "metadata": {},
   "outputs": [
    {
     "name": "stdout",
     "output_type": "stream",
     "text": [
      "Info:\n",
      " When: ['2004']\n",
      " Where: ['JAERI, Tokai-mura (Japan)']\n",
      " Code version: n/a\n",
      " XS library: n/a\n",
      " Literature: ['https://www.tandfonline.com/doi/pdf/10.1080/00223131.2004.10875640']\n",
      "\n"
     ]
    }
   ],
   "source": [
    "experiment_file.print_all_info()"
   ]
  },
  {
   "cell_type": "markdown",
   "metadata": {},
   "source": [
    "Similarly, for hdf files containing numerical simulation results:"
   ]
  },
  {
   "cell_type": "code",
   "execution_count": 5,
   "metadata": {},
   "outputs": [
    {
     "name": "stdout",
     "output_type": "stream",
     "text": [
      "Info:\n",
      " When: n/a\n",
      " Where: n/a\n",
      " Code version: MCNP-4B/C\n",
      " XS library: FENDL-2.0\n",
      " Literature: ['https://www.tandfonline.com/doi/pdf/10.1080/00223131.2004.10875640']\n",
      "\n"
     ]
    }
   ],
   "source": [
    "cv = mcnp_fendl2_file.code_version\n",
    "xslib = mcnp_fendl2_file.xs_library\n",
    "literature = mcnp_fendl2_file.literature_info\n",
    "\n",
    "mcnp_fendl2_file.print_all_info()"
   ]
  },
  {
   "cell_type": "markdown",
   "metadata": {},
   "source": [
    "In the case of hdf file containing simulation results it is possible to print just the `code_info`. Namely the `code_version` and `xs_library`:"
   ]
  },
  {
   "cell_type": "code",
   "execution_count": 6,
   "metadata": {},
   "outputs": [
    {
     "name": "stdout",
     "output_type": "stream",
     "text": [
      "Code version: MCNP-4B/C\n",
      " XS library: FENDL-2.0\n",
      "\n"
     ]
    }
   ],
   "source": [
    "mcnp_fendl2_file.print_code_info()"
   ]
  },
  {
   "cell_type": "markdown",
   "metadata": {},
   "source": [
    "### Extract a tally"
   ]
  },
  {
   "cell_type": "markdown",
   "metadata": {},
   "source": [
    "In order to extract a tally from a hdf file it is necessary to know its exact name. The `ResultsFromDatabase` object has a `list_tallies()` method that helps identifying the names of all the tallies available:"
   ]
  },
  {
   "cell_type": "code",
   "execution_count": 7,
   "metadata": {},
   "outputs": [
    {
     "name": "stdout",
     "output_type": "stream",
     "text": [
      "<KeysViewHDF5 ['nspectrum_detector3', 'nspectrum_detector5', 'nspectrum_detector7', 'nspectrum_detector9', 'rr_au197', 'rr_in115', 'rr_nb93']>\n"
     ]
    }
   ],
   "source": [
    "experiment_file.list_tallies()"
   ]
  },
  {
   "cell_type": "markdown",
   "metadata": {},
   "source": [
    "We chose, as example, the tally named `rr_offaxis_al27` and extract its results in a Pandas DataFrame format with the `get_tally_dataframe` method:"
   ]
  },
  {
   "cell_type": "code",
   "execution_count": 8,
   "metadata": {},
   "outputs": [
    {
     "data": {
      "text/html": [
       "<div>\n",
       "<style scoped>\n",
       "    .dataframe tbody tr th:only-of-type {\n",
       "        vertical-align: middle;\n",
       "    }\n",
       "\n",
       "    .dataframe tbody tr th {\n",
       "        vertical-align: top;\n",
       "    }\n",
       "\n",
       "    .dataframe thead th {\n",
       "        text-align: right;\n",
       "    }\n",
       "</style>\n",
       "<table border=\"1\" class=\"dataframe\">\n",
       "  <thead>\n",
       "    <tr style=\"text-align: right;\">\n",
       "      <th></th>\n",
       "      <th>Detector No.</th>\n",
       "      <th>mean</th>\n",
       "      <th>std. dev.</th>\n",
       "    </tr>\n",
       "  </thead>\n",
       "  <tbody>\n",
       "    <tr>\n",
       "      <th>0</th>\n",
       "      <td>1</td>\n",
       "      <td>1.727746e-06</td>\n",
       "      <td>5.010465e-08</td>\n",
       "    </tr>\n",
       "    <tr>\n",
       "      <th>1</th>\n",
       "      <td>2</td>\n",
       "      <td>1.063465e-06</td>\n",
       "      <td>4.147514e-08</td>\n",
       "    </tr>\n",
       "    <tr>\n",
       "      <th>2</th>\n",
       "      <td>3</td>\n",
       "      <td>6.911705e-07</td>\n",
       "      <td>2.557331e-08</td>\n",
       "    </tr>\n",
       "    <tr>\n",
       "      <th>3</th>\n",
       "      <td>4</td>\n",
       "      <td>3.645722e-09</td>\n",
       "      <td>1.677032e-10</td>\n",
       "    </tr>\n",
       "    <tr>\n",
       "      <th>4</th>\n",
       "      <td>5</td>\n",
       "      <td>7.896895e-10</td>\n",
       "      <td>4.659168e-11</td>\n",
       "    </tr>\n",
       "    <tr>\n",
       "      <th>5</th>\n",
       "      <td>6</td>\n",
       "      <td>NaN</td>\n",
       "      <td>NaN</td>\n",
       "    </tr>\n",
       "    <tr>\n",
       "      <th>6</th>\n",
       "      <td>7</td>\n",
       "      <td>NaN</td>\n",
       "      <td>NaN</td>\n",
       "    </tr>\n",
       "    <tr>\n",
       "      <th>7</th>\n",
       "      <td>8</td>\n",
       "      <td>NaN</td>\n",
       "      <td>NaN</td>\n",
       "    </tr>\n",
       "    <tr>\n",
       "      <th>8</th>\n",
       "      <td>9</td>\n",
       "      <td>3.541471e-10</td>\n",
       "      <td>3.895618e-12</td>\n",
       "    </tr>\n",
       "    <tr>\n",
       "      <th>9</th>\n",
       "      <td>10</td>\n",
       "      <td>NaN</td>\n",
       "      <td>NaN</td>\n",
       "    </tr>\n",
       "    <tr>\n",
       "      <th>10</th>\n",
       "      <td>11</td>\n",
       "      <td>NaN</td>\n",
       "      <td>NaN</td>\n",
       "    </tr>\n",
       "  </tbody>\n",
       "</table>\n",
       "</div>"
      ],
      "text/plain": [
       "    Detector No.          mean     std. dev.\n",
       "0              1  1.727746e-06  5.010465e-08\n",
       "1              2  1.063465e-06  4.147514e-08\n",
       "2              3  6.911705e-07  2.557331e-08\n",
       "3              4  3.645722e-09  1.677032e-10\n",
       "4              5  7.896895e-10  4.659168e-11\n",
       "5              6           NaN           NaN\n",
       "6              7           NaN           NaN\n",
       "7              8           NaN           NaN\n",
       "8              9  3.541471e-10  3.895618e-12\n",
       "9             10           NaN           NaN\n",
       "10            11           NaN           NaN"
      ]
     },
     "execution_count": 8,
     "metadata": {},
     "output_type": "execute_result"
    }
   ],
   "source": [
    "results = experiment_file.get_tally_dataframe(tally_name='rr_nb93')\n",
    "\n",
    "results"
   ]
  },
  {
   "cell_type": "markdown",
   "metadata": {},
   "source": [
    "It is possible to view single columns of the dataframe by calling the column name (names listed in the bottom line of the previous):"
   ]
  },
  {
   "cell_type": "code",
   "execution_count": 9,
   "metadata": {},
   "outputs": [
    {
     "name": "stdout",
     "output_type": "stream",
     "text": [
      "0     1.727746e-06\n",
      "1     1.063465e-06\n",
      "2     6.911705e-07\n",
      "3     3.645722e-09\n",
      "4     7.896895e-10\n",
      "5              NaN\n",
      "6              NaN\n",
      "7              NaN\n",
      "8     3.541471e-10\n",
      "9              NaN\n",
      "10             NaN\n",
      "Name: mean, dtype: float64\n",
      "0     5.010465e-08\n",
      "1     4.147514e-08\n",
      "2     2.557331e-08\n",
      "3     1.677032e-10\n",
      "4     4.659168e-11\n",
      "5              NaN\n",
      "6              NaN\n",
      "7              NaN\n",
      "8     3.895618e-12\n",
      "9              NaN\n",
      "10             NaN\n",
      "Name: std. dev., dtype: float64\n"
     ]
    }
   ],
   "source": [
    "print(results['mean'])\n",
    "print(results['std. dev.'])"
   ]
  },
  {
   "cell_type": "markdown",
   "metadata": {},
   "source": [
    "Typical experimental or statistical results (e.g. Monte Carlo simulation) are provided with the `mean` and `std. dev.` columns.\n",
    "Where the `std. dev.` column provides the **standard deviation absolute values (not relative)**."
   ]
  }
 ],
 "metadata": {
  "kernelspec": {
   "display_name": "baby_neutronics",
   "language": "python",
   "name": "python3"
  },
  "language_info": {
   "codemirror_mode": {
    "name": "ipython",
    "version": 3
   },
   "file_extension": ".py",
   "mimetype": "text/x-python",
   "name": "python",
   "nbconvert_exporter": "python",
   "pygments_lexer": "ipython3",
   "version": "3.11.7"
  },
  "orig_nbformat": 4
 },
 "nbformat": 4,
 "nbformat_minor": 2
}
